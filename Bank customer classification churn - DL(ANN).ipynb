{
 "cells": [
  {
   "cell_type": "markdown",
   "metadata": {},
   "source": [
    "### Take this dataset for bank customer churn prediction : https://www.kaggle.com/barelydedicated/bank-customer-churn-modeling\n",
    "\n",
    "### 1) Build a deep learning model to predict churn rate at bank. \n",
    "\n",
    "### 2) Once model is built, print classification report and analyze precision, recall and f1-score"
   ]
  },
  {
   "cell_type": "code",
   "execution_count": 1,
   "metadata": {},
   "outputs": [],
   "source": [
    "import pandas as pd\n",
    "import numpy as np\n",
    "import matplotlib.pyplot as plt\n",
    "%matplotlib inline"
   ]
  },
  {
   "cell_type": "code",
   "execution_count": 2,
   "metadata": {},
   "outputs": [
    {
     "data": {
      "text/html": [
       "<div>\n",
       "<style scoped>\n",
       "    .dataframe tbody tr th:only-of-type {\n",
       "        vertical-align: middle;\n",
       "    }\n",
       "\n",
       "    .dataframe tbody tr th {\n",
       "        vertical-align: top;\n",
       "    }\n",
       "\n",
       "    .dataframe thead th {\n",
       "        text-align: right;\n",
       "    }\n",
       "</style>\n",
       "<table border=\"1\" class=\"dataframe\">\n",
       "  <thead>\n",
       "    <tr style=\"text-align: right;\">\n",
       "      <th></th>\n",
       "      <th>RowNumber</th>\n",
       "      <th>CustomerId</th>\n",
       "      <th>Surname</th>\n",
       "      <th>CreditScore</th>\n",
       "      <th>Geography</th>\n",
       "      <th>Gender</th>\n",
       "      <th>Age</th>\n",
       "      <th>Tenure</th>\n",
       "      <th>Balance</th>\n",
       "      <th>NumOfProducts</th>\n",
       "      <th>HasCrCard</th>\n",
       "      <th>IsActiveMember</th>\n",
       "      <th>EstimatedSalary</th>\n",
       "      <th>Exited</th>\n",
       "    </tr>\n",
       "  </thead>\n",
       "  <tbody>\n",
       "    <tr>\n",
       "      <th>0</th>\n",
       "      <td>1</td>\n",
       "      <td>15634602</td>\n",
       "      <td>Hargrave</td>\n",
       "      <td>619</td>\n",
       "      <td>France</td>\n",
       "      <td>Female</td>\n",
       "      <td>42</td>\n",
       "      <td>2</td>\n",
       "      <td>0.00</td>\n",
       "      <td>1</td>\n",
       "      <td>1</td>\n",
       "      <td>1</td>\n",
       "      <td>101348.88</td>\n",
       "      <td>1</td>\n",
       "    </tr>\n",
       "    <tr>\n",
       "      <th>1</th>\n",
       "      <td>2</td>\n",
       "      <td>15647311</td>\n",
       "      <td>Hill</td>\n",
       "      <td>608</td>\n",
       "      <td>Spain</td>\n",
       "      <td>Female</td>\n",
       "      <td>41</td>\n",
       "      <td>1</td>\n",
       "      <td>83807.86</td>\n",
       "      <td>1</td>\n",
       "      <td>0</td>\n",
       "      <td>1</td>\n",
       "      <td>112542.58</td>\n",
       "      <td>0</td>\n",
       "    </tr>\n",
       "    <tr>\n",
       "      <th>2</th>\n",
       "      <td>3</td>\n",
       "      <td>15619304</td>\n",
       "      <td>Onio</td>\n",
       "      <td>502</td>\n",
       "      <td>France</td>\n",
       "      <td>Female</td>\n",
       "      <td>42</td>\n",
       "      <td>8</td>\n",
       "      <td>159660.80</td>\n",
       "      <td>3</td>\n",
       "      <td>1</td>\n",
       "      <td>0</td>\n",
       "      <td>113931.57</td>\n",
       "      <td>1</td>\n",
       "    </tr>\n",
       "    <tr>\n",
       "      <th>3</th>\n",
       "      <td>4</td>\n",
       "      <td>15701354</td>\n",
       "      <td>Boni</td>\n",
       "      <td>699</td>\n",
       "      <td>France</td>\n",
       "      <td>Female</td>\n",
       "      <td>39</td>\n",
       "      <td>1</td>\n",
       "      <td>0.00</td>\n",
       "      <td>2</td>\n",
       "      <td>0</td>\n",
       "      <td>0</td>\n",
       "      <td>93826.63</td>\n",
       "      <td>0</td>\n",
       "    </tr>\n",
       "    <tr>\n",
       "      <th>4</th>\n",
       "      <td>5</td>\n",
       "      <td>15737888</td>\n",
       "      <td>Mitchell</td>\n",
       "      <td>850</td>\n",
       "      <td>Spain</td>\n",
       "      <td>Female</td>\n",
       "      <td>43</td>\n",
       "      <td>2</td>\n",
       "      <td>125510.82</td>\n",
       "      <td>1</td>\n",
       "      <td>1</td>\n",
       "      <td>1</td>\n",
       "      <td>79084.10</td>\n",
       "      <td>0</td>\n",
       "    </tr>\n",
       "  </tbody>\n",
       "</table>\n",
       "</div>"
      ],
      "text/plain": [
       "   RowNumber  CustomerId   Surname  CreditScore Geography  Gender  Age  \\\n",
       "0          1    15634602  Hargrave          619    France  Female   42   \n",
       "1          2    15647311      Hill          608     Spain  Female   41   \n",
       "2          3    15619304      Onio          502    France  Female   42   \n",
       "3          4    15701354      Boni          699    France  Female   39   \n",
       "4          5    15737888  Mitchell          850     Spain  Female   43   \n",
       "\n",
       "   Tenure    Balance  NumOfProducts  HasCrCard  IsActiveMember  \\\n",
       "0       2       0.00              1          1               1   \n",
       "1       1   83807.86              1          0               1   \n",
       "2       8  159660.80              3          1               0   \n",
       "3       1       0.00              2          0               0   \n",
       "4       2  125510.82              1          1               1   \n",
       "\n",
       "   EstimatedSalary  Exited  \n",
       "0        101348.88       1  \n",
       "1        112542.58       0  \n",
       "2        113931.57       1  \n",
       "3         93826.63       0  \n",
       "4         79084.10       0  "
      ]
     },
     "execution_count": 2,
     "metadata": {},
     "output_type": "execute_result"
    }
   ],
   "source": [
    "# read csv file\n",
    "df = pd.read_csv(\"Bank_Customer_Churn_Modelling.csv\")\n",
    "df.head()"
   ]
  },
  {
   "cell_type": "code",
   "execution_count": 3,
   "metadata": {},
   "outputs": [
    {
     "data": {
      "text/plain": [
       "(10000, 14)"
      ]
     },
     "execution_count": 3,
     "metadata": {},
     "output_type": "execute_result"
    }
   ],
   "source": [
    "df.shape"
   ]
  },
  {
   "cell_type": "code",
   "execution_count": 4,
   "metadata": {},
   "outputs": [
    {
     "data": {
      "text/html": [
       "<div>\n",
       "<style scoped>\n",
       "    .dataframe tbody tr th:only-of-type {\n",
       "        vertical-align: middle;\n",
       "    }\n",
       "\n",
       "    .dataframe tbody tr th {\n",
       "        vertical-align: top;\n",
       "    }\n",
       "\n",
       "    .dataframe thead th {\n",
       "        text-align: right;\n",
       "    }\n",
       "</style>\n",
       "<table border=\"1\" class=\"dataframe\">\n",
       "  <thead>\n",
       "    <tr style=\"text-align: right;\">\n",
       "      <th></th>\n",
       "      <th>CreditScore</th>\n",
       "      <th>Gender</th>\n",
       "      <th>Age</th>\n",
       "      <th>Tenure</th>\n",
       "      <th>Balance</th>\n",
       "      <th>NumOfProducts</th>\n",
       "      <th>HasCrCard</th>\n",
       "      <th>IsActiveMember</th>\n",
       "      <th>EstimatedSalary</th>\n",
       "      <th>Exited</th>\n",
       "    </tr>\n",
       "  </thead>\n",
       "  <tbody>\n",
       "    <tr>\n",
       "      <th>0</th>\n",
       "      <td>619</td>\n",
       "      <td>Female</td>\n",
       "      <td>42</td>\n",
       "      <td>2</td>\n",
       "      <td>0.00</td>\n",
       "      <td>1</td>\n",
       "      <td>1</td>\n",
       "      <td>1</td>\n",
       "      <td>101348.88</td>\n",
       "      <td>1</td>\n",
       "    </tr>\n",
       "    <tr>\n",
       "      <th>1</th>\n",
       "      <td>608</td>\n",
       "      <td>Female</td>\n",
       "      <td>41</td>\n",
       "      <td>1</td>\n",
       "      <td>83807.86</td>\n",
       "      <td>1</td>\n",
       "      <td>0</td>\n",
       "      <td>1</td>\n",
       "      <td>112542.58</td>\n",
       "      <td>0</td>\n",
       "    </tr>\n",
       "    <tr>\n",
       "      <th>2</th>\n",
       "      <td>502</td>\n",
       "      <td>Female</td>\n",
       "      <td>42</td>\n",
       "      <td>8</td>\n",
       "      <td>159660.80</td>\n",
       "      <td>3</td>\n",
       "      <td>1</td>\n",
       "      <td>0</td>\n",
       "      <td>113931.57</td>\n",
       "      <td>1</td>\n",
       "    </tr>\n",
       "    <tr>\n",
       "      <th>3</th>\n",
       "      <td>699</td>\n",
       "      <td>Female</td>\n",
       "      <td>39</td>\n",
       "      <td>1</td>\n",
       "      <td>0.00</td>\n",
       "      <td>2</td>\n",
       "      <td>0</td>\n",
       "      <td>0</td>\n",
       "      <td>93826.63</td>\n",
       "      <td>0</td>\n",
       "    </tr>\n",
       "    <tr>\n",
       "      <th>4</th>\n",
       "      <td>850</td>\n",
       "      <td>Female</td>\n",
       "      <td>43</td>\n",
       "      <td>2</td>\n",
       "      <td>125510.82</td>\n",
       "      <td>1</td>\n",
       "      <td>1</td>\n",
       "      <td>1</td>\n",
       "      <td>79084.10</td>\n",
       "      <td>0</td>\n",
       "    </tr>\n",
       "  </tbody>\n",
       "</table>\n",
       "</div>"
      ],
      "text/plain": [
       "   CreditScore  Gender  Age  Tenure    Balance  NumOfProducts  HasCrCard  \\\n",
       "0          619  Female   42       2       0.00              1          1   \n",
       "1          608  Female   41       1   83807.86              1          0   \n",
       "2          502  Female   42       8  159660.80              3          1   \n",
       "3          699  Female   39       1       0.00              2          0   \n",
       "4          850  Female   43       2  125510.82              1          1   \n",
       "\n",
       "   IsActiveMember  EstimatedSalary  Exited  \n",
       "0               1        101348.88       1  \n",
       "1               1        112542.58       0  \n",
       "2               0        113931.57       1  \n",
       "3               0         93826.63       0  \n",
       "4               1         79084.10       0  "
      ]
     },
     "execution_count": 4,
     "metadata": {},
     "output_type": "execute_result"
    }
   ],
   "source": [
    "# looks like customerID, Surname, Geography  nad Rownumber may not be much useful in DL , can be dropped from dataframe\n",
    "df = df.drop(['RowNumber', 'CustomerId', 'Surname', 'Geography'], axis = 'columns')\n",
    "df.head()"
   ]
  },
  {
   "cell_type": "code",
   "execution_count": 5,
   "metadata": {},
   "outputs": [
    {
     "data": {
      "text/plain": [
       "CreditScore          int64\n",
       "Gender              object\n",
       "Age                  int64\n",
       "Tenure               int64\n",
       "Balance            float64\n",
       "NumOfProducts        int64\n",
       "HasCrCard            int64\n",
       "IsActiveMember       int64\n",
       "EstimatedSalary    float64\n",
       "Exited               int64\n",
       "dtype: object"
      ]
     },
     "execution_count": 5,
     "metadata": {},
     "output_type": "execute_result"
    }
   ],
   "source": [
    "df.dtypes"
   ]
  },
  {
   "cell_type": "code",
   "execution_count": 6,
   "metadata": {},
   "outputs": [
    {
     "data": {
      "text/html": [
       "<div>\n",
       "<style scoped>\n",
       "    .dataframe tbody tr th:only-of-type {\n",
       "        vertical-align: middle;\n",
       "    }\n",
       "\n",
       "    .dataframe tbody tr th {\n",
       "        vertical-align: top;\n",
       "    }\n",
       "\n",
       "    .dataframe thead th {\n",
       "        text-align: right;\n",
       "    }\n",
       "</style>\n",
       "<table border=\"1\" class=\"dataframe\">\n",
       "  <thead>\n",
       "    <tr style=\"text-align: right;\">\n",
       "      <th></th>\n",
       "      <th>CreditScore</th>\n",
       "      <th>Gender</th>\n",
       "      <th>Age</th>\n",
       "      <th>Tenure</th>\n",
       "      <th>Balance</th>\n",
       "      <th>NumOfProducts</th>\n",
       "      <th>HasCrCard</th>\n",
       "      <th>IsActiveMember</th>\n",
       "      <th>EstimatedSalary</th>\n",
       "      <th>Exited</th>\n",
       "    </tr>\n",
       "  </thead>\n",
       "  <tbody>\n",
       "    <tr>\n",
       "      <th>0</th>\n",
       "      <td>False</td>\n",
       "      <td>False</td>\n",
       "      <td>False</td>\n",
       "      <td>False</td>\n",
       "      <td>False</td>\n",
       "      <td>False</td>\n",
       "      <td>False</td>\n",
       "      <td>False</td>\n",
       "      <td>False</td>\n",
       "      <td>False</td>\n",
       "    </tr>\n",
       "    <tr>\n",
       "      <th>1</th>\n",
       "      <td>False</td>\n",
       "      <td>False</td>\n",
       "      <td>False</td>\n",
       "      <td>False</td>\n",
       "      <td>False</td>\n",
       "      <td>False</td>\n",
       "      <td>False</td>\n",
       "      <td>False</td>\n",
       "      <td>False</td>\n",
       "      <td>False</td>\n",
       "    </tr>\n",
       "    <tr>\n",
       "      <th>2</th>\n",
       "      <td>False</td>\n",
       "      <td>False</td>\n",
       "      <td>False</td>\n",
       "      <td>False</td>\n",
       "      <td>False</td>\n",
       "      <td>False</td>\n",
       "      <td>False</td>\n",
       "      <td>False</td>\n",
       "      <td>False</td>\n",
       "      <td>False</td>\n",
       "    </tr>\n",
       "    <tr>\n",
       "      <th>3</th>\n",
       "      <td>False</td>\n",
       "      <td>False</td>\n",
       "      <td>False</td>\n",
       "      <td>False</td>\n",
       "      <td>False</td>\n",
       "      <td>False</td>\n",
       "      <td>False</td>\n",
       "      <td>False</td>\n",
       "      <td>False</td>\n",
       "      <td>False</td>\n",
       "    </tr>\n",
       "    <tr>\n",
       "      <th>4</th>\n",
       "      <td>False</td>\n",
       "      <td>False</td>\n",
       "      <td>False</td>\n",
       "      <td>False</td>\n",
       "      <td>False</td>\n",
       "      <td>False</td>\n",
       "      <td>False</td>\n",
       "      <td>False</td>\n",
       "      <td>False</td>\n",
       "      <td>False</td>\n",
       "    </tr>\n",
       "    <tr>\n",
       "      <th>...</th>\n",
       "      <td>...</td>\n",
       "      <td>...</td>\n",
       "      <td>...</td>\n",
       "      <td>...</td>\n",
       "      <td>...</td>\n",
       "      <td>...</td>\n",
       "      <td>...</td>\n",
       "      <td>...</td>\n",
       "      <td>...</td>\n",
       "      <td>...</td>\n",
       "    </tr>\n",
       "    <tr>\n",
       "      <th>9995</th>\n",
       "      <td>False</td>\n",
       "      <td>False</td>\n",
       "      <td>False</td>\n",
       "      <td>False</td>\n",
       "      <td>False</td>\n",
       "      <td>False</td>\n",
       "      <td>False</td>\n",
       "      <td>False</td>\n",
       "      <td>False</td>\n",
       "      <td>False</td>\n",
       "    </tr>\n",
       "    <tr>\n",
       "      <th>9996</th>\n",
       "      <td>False</td>\n",
       "      <td>False</td>\n",
       "      <td>False</td>\n",
       "      <td>False</td>\n",
       "      <td>False</td>\n",
       "      <td>False</td>\n",
       "      <td>False</td>\n",
       "      <td>False</td>\n",
       "      <td>False</td>\n",
       "      <td>False</td>\n",
       "    </tr>\n",
       "    <tr>\n",
       "      <th>9997</th>\n",
       "      <td>False</td>\n",
       "      <td>False</td>\n",
       "      <td>False</td>\n",
       "      <td>False</td>\n",
       "      <td>False</td>\n",
       "      <td>False</td>\n",
       "      <td>False</td>\n",
       "      <td>False</td>\n",
       "      <td>False</td>\n",
       "      <td>False</td>\n",
       "    </tr>\n",
       "    <tr>\n",
       "      <th>9998</th>\n",
       "      <td>False</td>\n",
       "      <td>False</td>\n",
       "      <td>False</td>\n",
       "      <td>False</td>\n",
       "      <td>False</td>\n",
       "      <td>False</td>\n",
       "      <td>False</td>\n",
       "      <td>False</td>\n",
       "      <td>False</td>\n",
       "      <td>False</td>\n",
       "    </tr>\n",
       "    <tr>\n",
       "      <th>9999</th>\n",
       "      <td>False</td>\n",
       "      <td>False</td>\n",
       "      <td>False</td>\n",
       "      <td>False</td>\n",
       "      <td>False</td>\n",
       "      <td>False</td>\n",
       "      <td>False</td>\n",
       "      <td>False</td>\n",
       "      <td>False</td>\n",
       "      <td>False</td>\n",
       "    </tr>\n",
       "  </tbody>\n",
       "</table>\n",
       "<p>10000 rows × 10 columns</p>\n",
       "</div>"
      ],
      "text/plain": [
       "      CreditScore  Gender    Age  Tenure  Balance  NumOfProducts  HasCrCard  \\\n",
       "0           False   False  False   False    False          False      False   \n",
       "1           False   False  False   False    False          False      False   \n",
       "2           False   False  False   False    False          False      False   \n",
       "3           False   False  False   False    False          False      False   \n",
       "4           False   False  False   False    False          False      False   \n",
       "...           ...     ...    ...     ...      ...            ...        ...   \n",
       "9995        False   False  False   False    False          False      False   \n",
       "9996        False   False  False   False    False          False      False   \n",
       "9997        False   False  False   False    False          False      False   \n",
       "9998        False   False  False   False    False          False      False   \n",
       "9999        False   False  False   False    False          False      False   \n",
       "\n",
       "      IsActiveMember  EstimatedSalary  Exited  \n",
       "0              False            False   False  \n",
       "1              False            False   False  \n",
       "2              False            False   False  \n",
       "3              False            False   False  \n",
       "4              False            False   False  \n",
       "...              ...              ...     ...  \n",
       "9995           False            False   False  \n",
       "9996           False            False   False  \n",
       "9997           False            False   False  \n",
       "9998           False            False   False  \n",
       "9999           False            False   False  \n",
       "\n",
       "[10000 rows x 10 columns]"
      ]
     },
     "execution_count": 6,
     "metadata": {},
     "output_type": "execute_result"
    }
   ],
   "source": [
    "# look likE dataset is clean.\n",
    "# check for any NaN or missing data\n",
    "df.isnull()"
   ]
  },
  {
   "cell_type": "code",
   "execution_count": 7,
   "metadata": {},
   "outputs": [],
   "source": [
    "# looks like no missing data in columns, pretty clean?"
   ]
  },
  {
   "cell_type": "code",
   "execution_count": 8,
   "metadata": {},
   "outputs": [
    {
     "data": {
      "text/html": [
       "<div>\n",
       "<style scoped>\n",
       "    .dataframe tbody tr th:only-of-type {\n",
       "        vertical-align: middle;\n",
       "    }\n",
       "\n",
       "    .dataframe tbody tr th {\n",
       "        vertical-align: top;\n",
       "    }\n",
       "\n",
       "    .dataframe thead th {\n",
       "        text-align: right;\n",
       "    }\n",
       "</style>\n",
       "<table border=\"1\" class=\"dataframe\">\n",
       "  <thead>\n",
       "    <tr style=\"text-align: right;\">\n",
       "      <th></th>\n",
       "      <th>CreditScore</th>\n",
       "      <th>Gender</th>\n",
       "      <th>Age</th>\n",
       "      <th>Tenure</th>\n",
       "      <th>Balance</th>\n",
       "      <th>NumOfProducts</th>\n",
       "      <th>HasCrCard</th>\n",
       "      <th>IsActiveMember</th>\n",
       "      <th>EstimatedSalary</th>\n",
       "      <th>Exited</th>\n",
       "    </tr>\n",
       "  </thead>\n",
       "  <tbody>\n",
       "    <tr>\n",
       "      <th>0</th>\n",
       "      <td>619</td>\n",
       "      <td>Female</td>\n",
       "      <td>42</td>\n",
       "      <td>2</td>\n",
       "      <td>0.00</td>\n",
       "      <td>1</td>\n",
       "      <td>1</td>\n",
       "      <td>1</td>\n",
       "      <td>101348.88</td>\n",
       "      <td>1</td>\n",
       "    </tr>\n",
       "    <tr>\n",
       "      <th>1</th>\n",
       "      <td>608</td>\n",
       "      <td>Female</td>\n",
       "      <td>41</td>\n",
       "      <td>1</td>\n",
       "      <td>83807.86</td>\n",
       "      <td>1</td>\n",
       "      <td>0</td>\n",
       "      <td>1</td>\n",
       "      <td>112542.58</td>\n",
       "      <td>0</td>\n",
       "    </tr>\n",
       "    <tr>\n",
       "      <th>2</th>\n",
       "      <td>502</td>\n",
       "      <td>Female</td>\n",
       "      <td>42</td>\n",
       "      <td>8</td>\n",
       "      <td>159660.80</td>\n",
       "      <td>3</td>\n",
       "      <td>1</td>\n",
       "      <td>0</td>\n",
       "      <td>113931.57</td>\n",
       "      <td>1</td>\n",
       "    </tr>\n",
       "    <tr>\n",
       "      <th>3</th>\n",
       "      <td>699</td>\n",
       "      <td>Female</td>\n",
       "      <td>39</td>\n",
       "      <td>1</td>\n",
       "      <td>0.00</td>\n",
       "      <td>2</td>\n",
       "      <td>0</td>\n",
       "      <td>0</td>\n",
       "      <td>93826.63</td>\n",
       "      <td>0</td>\n",
       "    </tr>\n",
       "    <tr>\n",
       "      <th>4</th>\n",
       "      <td>850</td>\n",
       "      <td>Female</td>\n",
       "      <td>43</td>\n",
       "      <td>2</td>\n",
       "      <td>125510.82</td>\n",
       "      <td>1</td>\n",
       "      <td>1</td>\n",
       "      <td>1</td>\n",
       "      <td>79084.10</td>\n",
       "      <td>0</td>\n",
       "    </tr>\n",
       "  </tbody>\n",
       "</table>\n",
       "</div>"
      ],
      "text/plain": [
       "   CreditScore  Gender  Age  Tenure    Balance  NumOfProducts  HasCrCard  \\\n",
       "0          619  Female   42       2       0.00              1          1   \n",
       "1          608  Female   41       1   83807.86              1          0   \n",
       "2          502  Female   42       8  159660.80              3          1   \n",
       "3          699  Female   39       1       0.00              2          0   \n",
       "4          850  Female   43       2  125510.82              1          1   \n",
       "\n",
       "   IsActiveMember  EstimatedSalary  Exited  \n",
       "0               1        101348.88       1  \n",
       "1               1        112542.58       0  \n",
       "2               0        113931.57       1  \n",
       "3               0         93826.63       0  \n",
       "4               1         79084.10       0  "
      ]
     },
     "execution_count": 8,
     "metadata": {},
     "output_type": "execute_result"
    }
   ],
   "source": [
    "df.head()"
   ]
  },
  {
   "cell_type": "markdown",
   "metadata": {},
   "source": [
    "# Data Visualisation "
   ]
  },
  {
   "cell_type": "code",
   "execution_count": 9,
   "metadata": {
    "scrolled": true
   },
   "outputs": [
    {
     "data": {
      "text/plain": [
       "<matplotlib.legend.Legend at 0x1bca75bfd90>"
      ]
     },
     "execution_count": 9,
     "metadata": {},
     "output_type": "execute_result"
    },
    {
     "data": {
      "image/png": "[encoded data removed]",
      "text/plain": [
       "<Figure size 432x288 with 1 Axes>"
      ]
     },
     "metadata": {
      "needs_background": "light"
     },
     "output_type": "display_data"
    }
   ],
   "source": [
    "# Considered credit score , tenure and estmiated salary play significant role whether customer leave or stay with bank\n",
    "CreditScore_Exited_Yes = df[df.Exited ==1].CreditScore\n",
    "CreditScore_Exited_No = df[df.Exited ==0].CreditScore\n",
    "\n",
    "# plot histogram plot\n",
    "plt.ylabel('Number of Customers')\n",
    "plt.xlabel('CreditScore')\n",
    "plt.title('Customer Exit Prediction Visualisation')\n",
    "\n",
    "plt.hist([CreditScore_Exited_Yes, CreditScore_Exited_No], rwidth = 0.85, color = ['green', 'red'], label = ['Exited - Yes', 'Exited - No'] )\n",
    "plt.legend()"
   ]
  },
  {
   "cell_type": "code",
   "execution_count": 10,
   "metadata": {},
   "outputs": [
    {
     "data": {
      "text/plain": [
       "<matplotlib.legend.Legend at 0x1bca76f8ac0>"
      ]
     },
     "execution_count": 10,
     "metadata": {},
     "output_type": "execute_result"
    },
    {
     "data": {
      "image/png": "[encoded data removed]",
      "text/plain": [
       "<Figure size 432x288 with 1 Axes>"
      ]
     },
     "metadata": {
      "needs_background": "light"
     },
     "output_type": "display_data"
    }
   ],
   "source": [
    "# Considered credit score , tenure and estmiated salary play significant role whether customer leave or stay with bank\n",
    "Tenure_Exited_Yes = df[df.Exited ==1].Tenure\n",
    "Tenure_Exited_No = df[df.Exited ==0].Tenure\n",
    "\n",
    "# plot histogram plot\n",
    "plt.ylabel('Number of Customers')\n",
    "plt.xlabel('Tenure')\n",
    "plt.title('Customer Exit Prediction Visualisation')\n",
    "\n",
    "plt.hist([Tenure_Exited_Yes, Tenure_Exited_No], rwidth = 0.85, color = ['green', 'red'], label = ['Exited - Yes', 'Exited - No'] )\n",
    "plt.legend()\n"
   ]
  },
  {
   "cell_type": "code",
   "execution_count": 11,
   "metadata": {},
   "outputs": [
    {
     "data": {
      "text/plain": [
       "<matplotlib.legend.Legend at 0x1bca77904c0>"
      ]
     },
     "execution_count": 11,
     "metadata": {},
     "output_type": "execute_result"
    },
    {
     "data": {
      "image/png": "[encoded data removed]",
      "text/plain": [
       "<Figure size 432x288 with 1 Axes>"
      ]
     },
     "metadata": {
      "needs_background": "light"
     },
     "output_type": "display_data"
    }
   ],
   "source": [
    "# Considered credit score , tenure and estmiated salary play significant role whether customer leave or stay with bank\n",
    "EstimatedSalary_Exited_Yes = df[df.Exited ==1].EstimatedSalary\n",
    "EstimatedSalary_Exited_No = df[df.Exited ==0].EstimatedSalary\n",
    "\n",
    "# plot histogram plot\n",
    "plt.ylabel('Number of Customers')\n",
    "plt.xlabel('EstimatedSalary')\n",
    "plt.title('Customer Exit Prediction Visualisation')\n",
    "\n",
    "plt.hist([EstimatedSalary_Exited_Yes, EstimatedSalary_Exited_No], rwidth = 0.85, color = ['green', 'red'], label = ['Exited - Yes', 'Exited - No'] )\n",
    "plt.legend()\n"
   ]
  },
  {
   "cell_type": "code",
   "execution_count": 12,
   "metadata": {},
   "outputs": [
    {
     "data": {
      "text/plain": [
       "(10000, 10)"
      ]
     },
     "execution_count": 12,
     "metadata": {},
     "output_type": "execute_result"
    }
   ],
   "source": [
    "df.shape"
   ]
  },
  {
   "cell_type": "code",
   "execution_count": 13,
   "metadata": {},
   "outputs": [
    {
     "data": {
      "text/html": [
       "<div>\n",
       "<style scoped>\n",
       "    .dataframe tbody tr th:only-of-type {\n",
       "        vertical-align: middle;\n",
       "    }\n",
       "\n",
       "    .dataframe tbody tr th {\n",
       "        vertical-align: top;\n",
       "    }\n",
       "\n",
       "    .dataframe thead th {\n",
       "        text-align: right;\n",
       "    }\n",
       "</style>\n",
       "<table border=\"1\" class=\"dataframe\">\n",
       "  <thead>\n",
       "    <tr style=\"text-align: right;\">\n",
       "      <th></th>\n",
       "      <th>CreditScore</th>\n",
       "      <th>Gender</th>\n",
       "      <th>Age</th>\n",
       "      <th>Tenure</th>\n",
       "      <th>Balance</th>\n",
       "      <th>NumOfProducts</th>\n",
       "      <th>HasCrCard</th>\n",
       "      <th>IsActiveMember</th>\n",
       "      <th>EstimatedSalary</th>\n",
       "      <th>Exited</th>\n",
       "    </tr>\n",
       "  </thead>\n",
       "  <tbody>\n",
       "    <tr>\n",
       "      <th>0</th>\n",
       "      <td>619</td>\n",
       "      <td>Female</td>\n",
       "      <td>42</td>\n",
       "      <td>2</td>\n",
       "      <td>0.00</td>\n",
       "      <td>1</td>\n",
       "      <td>1</td>\n",
       "      <td>1</td>\n",
       "      <td>101348.88</td>\n",
       "      <td>1</td>\n",
       "    </tr>\n",
       "    <tr>\n",
       "      <th>1</th>\n",
       "      <td>608</td>\n",
       "      <td>Female</td>\n",
       "      <td>41</td>\n",
       "      <td>1</td>\n",
       "      <td>83807.86</td>\n",
       "      <td>1</td>\n",
       "      <td>0</td>\n",
       "      <td>1</td>\n",
       "      <td>112542.58</td>\n",
       "      <td>0</td>\n",
       "    </tr>\n",
       "    <tr>\n",
       "      <th>2</th>\n",
       "      <td>502</td>\n",
       "      <td>Female</td>\n",
       "      <td>42</td>\n",
       "      <td>8</td>\n",
       "      <td>159660.80</td>\n",
       "      <td>3</td>\n",
       "      <td>1</td>\n",
       "      <td>0</td>\n",
       "      <td>113931.57</td>\n",
       "      <td>1</td>\n",
       "    </tr>\n",
       "    <tr>\n",
       "      <th>3</th>\n",
       "      <td>699</td>\n",
       "      <td>Female</td>\n",
       "      <td>39</td>\n",
       "      <td>1</td>\n",
       "      <td>0.00</td>\n",
       "      <td>2</td>\n",
       "      <td>0</td>\n",
       "      <td>0</td>\n",
       "      <td>93826.63</td>\n",
       "      <td>0</td>\n",
       "    </tr>\n",
       "    <tr>\n",
       "      <th>4</th>\n",
       "      <td>850</td>\n",
       "      <td>Female</td>\n",
       "      <td>43</td>\n",
       "      <td>2</td>\n",
       "      <td>125510.82</td>\n",
       "      <td>1</td>\n",
       "      <td>1</td>\n",
       "      <td>1</td>\n",
       "      <td>79084.10</td>\n",
       "      <td>0</td>\n",
       "    </tr>\n",
       "  </tbody>\n",
       "</table>\n",
       "</div>"
      ],
      "text/plain": [
       "   CreditScore  Gender  Age  Tenure    Balance  NumOfProducts  HasCrCard  \\\n",
       "0          619  Female   42       2       0.00              1          1   \n",
       "1          608  Female   41       1   83807.86              1          0   \n",
       "2          502  Female   42       8  159660.80              3          1   \n",
       "3          699  Female   39       1       0.00              2          0   \n",
       "4          850  Female   43       2  125510.82              1          1   \n",
       "\n",
       "   IsActiveMember  EstimatedSalary  Exited  \n",
       "0               1        101348.88       1  \n",
       "1               1        112542.58       0  \n",
       "2               0        113931.57       1  \n",
       "3               0         93826.63       0  \n",
       "4               1         79084.10       0  "
      ]
     },
     "execution_count": 13,
     "metadata": {},
     "output_type": "execute_result"
    }
   ],
   "source": [
    "df.head()"
   ]
  },
  {
   "cell_type": "code",
   "execution_count": 14,
   "metadata": {},
   "outputs": [
    {
     "data": {
      "text/html": [
       "<div>\n",
       "<style scoped>\n",
       "    .dataframe tbody tr th:only-of-type {\n",
       "        vertical-align: middle;\n",
       "    }\n",
       "\n",
       "    .dataframe tbody tr th {\n",
       "        vertical-align: top;\n",
       "    }\n",
       "\n",
       "    .dataframe thead th {\n",
       "        text-align: right;\n",
       "    }\n",
       "</style>\n",
       "<table border=\"1\" class=\"dataframe\">\n",
       "  <thead>\n",
       "    <tr style=\"text-align: right;\">\n",
       "      <th></th>\n",
       "      <th>CreditScore</th>\n",
       "      <th>Gender</th>\n",
       "      <th>Age</th>\n",
       "      <th>Tenure</th>\n",
       "      <th>Balance</th>\n",
       "      <th>NumOfProducts</th>\n",
       "      <th>HasCrCard</th>\n",
       "      <th>IsActiveMember</th>\n",
       "      <th>EstimatedSalary</th>\n",
       "      <th>Exited</th>\n",
       "    </tr>\n",
       "  </thead>\n",
       "  <tbody>\n",
       "    <tr>\n",
       "      <th>0</th>\n",
       "      <td>619</td>\n",
       "      <td>0</td>\n",
       "      <td>42</td>\n",
       "      <td>2</td>\n",
       "      <td>0.00</td>\n",
       "      <td>1</td>\n",
       "      <td>1</td>\n",
       "      <td>1</td>\n",
       "      <td>101348.88</td>\n",
       "      <td>1</td>\n",
       "    </tr>\n",
       "    <tr>\n",
       "      <th>1</th>\n",
       "      <td>608</td>\n",
       "      <td>0</td>\n",
       "      <td>41</td>\n",
       "      <td>1</td>\n",
       "      <td>83807.86</td>\n",
       "      <td>1</td>\n",
       "      <td>0</td>\n",
       "      <td>1</td>\n",
       "      <td>112542.58</td>\n",
       "      <td>0</td>\n",
       "    </tr>\n",
       "    <tr>\n",
       "      <th>2</th>\n",
       "      <td>502</td>\n",
       "      <td>0</td>\n",
       "      <td>42</td>\n",
       "      <td>8</td>\n",
       "      <td>159660.80</td>\n",
       "      <td>3</td>\n",
       "      <td>1</td>\n",
       "      <td>0</td>\n",
       "      <td>113931.57</td>\n",
       "      <td>1</td>\n",
       "    </tr>\n",
       "    <tr>\n",
       "      <th>3</th>\n",
       "      <td>699</td>\n",
       "      <td>0</td>\n",
       "      <td>39</td>\n",
       "      <td>1</td>\n",
       "      <td>0.00</td>\n",
       "      <td>2</td>\n",
       "      <td>0</td>\n",
       "      <td>0</td>\n",
       "      <td>93826.63</td>\n",
       "      <td>0</td>\n",
       "    </tr>\n",
       "    <tr>\n",
       "      <th>4</th>\n",
       "      <td>850</td>\n",
       "      <td>0</td>\n",
       "      <td>43</td>\n",
       "      <td>2</td>\n",
       "      <td>125510.82</td>\n",
       "      <td>1</td>\n",
       "      <td>1</td>\n",
       "      <td>1</td>\n",
       "      <td>79084.10</td>\n",
       "      <td>0</td>\n",
       "    </tr>\n",
       "  </tbody>\n",
       "</table>\n",
       "</div>"
      ],
      "text/plain": [
       "   CreditScore  Gender  Age  Tenure    Balance  NumOfProducts  HasCrCard  \\\n",
       "0          619       0   42       2       0.00              1          1   \n",
       "1          608       0   41       1   83807.86              1          0   \n",
       "2          502       0   42       8  159660.80              3          1   \n",
       "3          699       0   39       1       0.00              2          0   \n",
       "4          850       0   43       2  125510.82              1          1   \n",
       "\n",
       "   IsActiveMember  EstimatedSalary  Exited  \n",
       "0               1        101348.88       1  \n",
       "1               1        112542.58       0  \n",
       "2               0        113931.57       1  \n",
       "3               0         93826.63       0  \n",
       "4               1         79084.10       0  "
      ]
     },
     "execution_count": 14,
     "metadata": {},
     "output_type": "execute_result"
    }
   ],
   "source": [
    "# except Gender column , all columns are numerical. Change gender values to female = 0 and male = 1\n",
    "df['Gender'].replace({'Female': 0, 'Male': 1}, inplace = True)\n",
    "df.head()"
   ]
  },
  {
   "cell_type": "code",
   "execution_count": 15,
   "metadata": {},
   "outputs": [],
   "source": [
    "# scale the columns between 0 to 1 using MinMaxScaler\n",
    "\n",
    "col_to_scale = ['CreditScore', 'Age', 'Tenure', 'Balance', 'NumOfProducts', 'EstimatedSalary']\n",
    "\n",
    "from sklearn.preprocessing import MinMaxScaler\n",
    "scaler = MinMaxScaler()\n",
    "df[col_to_scale] = scaler.fit_transform(df[col_to_scale])"
   ]
  },
  {
   "cell_type": "code",
   "execution_count": 16,
   "metadata": {},
   "outputs": [
    {
     "data": {
      "text/html": [
       "<div>\n",
       "<style scoped>\n",
       "    .dataframe tbody tr th:only-of-type {\n",
       "        vertical-align: middle;\n",
       "    }\n",
       "\n",
       "    .dataframe tbody tr th {\n",
       "        vertical-align: top;\n",
       "    }\n",
       "\n",
       "    .dataframe thead th {\n",
       "        text-align: right;\n",
       "    }\n",
       "</style>\n",
       "<table border=\"1\" class=\"dataframe\">\n",
       "  <thead>\n",
       "    <tr style=\"text-align: right;\">\n",
       "      <th></th>\n",
       "      <th>CreditScore</th>\n",
       "      <th>Gender</th>\n",
       "      <th>Age</th>\n",
       "      <th>Tenure</th>\n",
       "      <th>Balance</th>\n",
       "      <th>NumOfProducts</th>\n",
       "      <th>HasCrCard</th>\n",
       "      <th>IsActiveMember</th>\n",
       "      <th>EstimatedSalary</th>\n",
       "      <th>Exited</th>\n",
       "    </tr>\n",
       "  </thead>\n",
       "  <tbody>\n",
       "    <tr>\n",
       "      <th>0</th>\n",
       "      <td>0.538</td>\n",
       "      <td>0</td>\n",
       "      <td>0.324324</td>\n",
       "      <td>0.2</td>\n",
       "      <td>0.000000</td>\n",
       "      <td>0.000000</td>\n",
       "      <td>1</td>\n",
       "      <td>1</td>\n",
       "      <td>0.506735</td>\n",
       "      <td>1</td>\n",
       "    </tr>\n",
       "    <tr>\n",
       "      <th>1</th>\n",
       "      <td>0.516</td>\n",
       "      <td>0</td>\n",
       "      <td>0.310811</td>\n",
       "      <td>0.1</td>\n",
       "      <td>0.334031</td>\n",
       "      <td>0.000000</td>\n",
       "      <td>0</td>\n",
       "      <td>1</td>\n",
       "      <td>0.562709</td>\n",
       "      <td>0</td>\n",
       "    </tr>\n",
       "    <tr>\n",
       "      <th>2</th>\n",
       "      <td>0.304</td>\n",
       "      <td>0</td>\n",
       "      <td>0.324324</td>\n",
       "      <td>0.8</td>\n",
       "      <td>0.636357</td>\n",
       "      <td>0.666667</td>\n",
       "      <td>1</td>\n",
       "      <td>0</td>\n",
       "      <td>0.569654</td>\n",
       "      <td>1</td>\n",
       "    </tr>\n",
       "    <tr>\n",
       "      <th>3</th>\n",
       "      <td>0.698</td>\n",
       "      <td>0</td>\n",
       "      <td>0.283784</td>\n",
       "      <td>0.1</td>\n",
       "      <td>0.000000</td>\n",
       "      <td>0.333333</td>\n",
       "      <td>0</td>\n",
       "      <td>0</td>\n",
       "      <td>0.469120</td>\n",
       "      <td>0</td>\n",
       "    </tr>\n",
       "    <tr>\n",
       "      <th>4</th>\n",
       "      <td>1.000</td>\n",
       "      <td>0</td>\n",
       "      <td>0.337838</td>\n",
       "      <td>0.2</td>\n",
       "      <td>0.500246</td>\n",
       "      <td>0.000000</td>\n",
       "      <td>1</td>\n",
       "      <td>1</td>\n",
       "      <td>0.395400</td>\n",
       "      <td>0</td>\n",
       "    </tr>\n",
       "  </tbody>\n",
       "</table>\n",
       "</div>"
      ],
      "text/plain": [
       "   CreditScore  Gender       Age  Tenure   Balance  NumOfProducts  HasCrCard  \\\n",
       "0        0.538       0  0.324324     0.2  0.000000       0.000000          1   \n",
       "1        0.516       0  0.310811     0.1  0.334031       0.000000          0   \n",
       "2        0.304       0  0.324324     0.8  0.636357       0.666667          1   \n",
       "3        0.698       0  0.283784     0.1  0.000000       0.333333          0   \n",
       "4        1.000       0  0.337838     0.2  0.500246       0.000000          1   \n",
       "\n",
       "   IsActiveMember  EstimatedSalary  Exited  \n",
       "0               1         0.506735       1  \n",
       "1               1         0.562709       0  \n",
       "2               0         0.569654       1  \n",
       "3               0         0.469120       0  \n",
       "4               1         0.395400       0  "
      ]
     },
     "execution_count": 16,
     "metadata": {},
     "output_type": "execute_result"
    }
   ],
   "source": [
    "df.head()"
   ]
  },
  {
   "cell_type": "markdown",
   "metadata": {},
   "source": [
    "## Build ANN model "
   ]
  },
  {
   "cell_type": "code",
   "execution_count": 17,
   "metadata": {},
   "outputs": [],
   "source": [
    "# create indenpent (X) and dependent (y) dataset\n",
    "X = df.drop('Exited', axis = 'columns')\n",
    "y = df.Exited"
   ]
  },
  {
   "cell_type": "code",
   "execution_count": 18,
   "metadata": {},
   "outputs": [],
   "source": [
    "# Train test split data\n",
    "from sklearn.model_selection import train_test_split\n",
    "X_train, X_test, y_train, y_test = train_test_split(X, y, test_size = 0.2, random_state = 5)"
   ]
  },
  {
   "cell_type": "code",
   "execution_count": 19,
   "metadata": {},
   "outputs": [
    {
     "data": {
      "text/plain": [
       "(8000, 9)"
      ]
     },
     "execution_count": 19,
     "metadata": {},
     "output_type": "execute_result"
    }
   ],
   "source": [
    "X_train.shape"
   ]
  },
  {
   "cell_type": "code",
   "execution_count": 20,
   "metadata": {},
   "outputs": [
    {
     "data": {
      "text/plain": [
       "(2000, 9)"
      ]
     },
     "execution_count": 20,
     "metadata": {},
     "output_type": "execute_result"
    }
   ],
   "source": [
    "X_test.shape"
   ]
  },
  {
   "cell_type": "code",
   "execution_count": 21,
   "metadata": {},
   "outputs": [
    {
     "data": {
      "text/plain": [
       "(8000,)"
      ]
     },
     "execution_count": 21,
     "metadata": {},
     "output_type": "execute_result"
    }
   ],
   "source": [
    "y_train.shape"
   ]
  },
  {
   "cell_type": "code",
   "execution_count": 22,
   "metadata": {},
   "outputs": [
    {
     "data": {
      "text/plain": [
       "(2000,)"
      ]
     },
     "execution_count": 22,
     "metadata": {},
     "output_type": "execute_result"
    }
   ],
   "source": [
    "y_test.shape"
   ]
  },
  {
   "cell_type": "code",
   "execution_count": 23,
   "metadata": {},
   "outputs": [
    {
     "name": "stdout",
     "output_type": "stream",
     "text": [
      "Epoch 1/100\n",
      "250/250 [==============================] - 0s 527us/step - loss: 0.5115 - accuracy: 0.7960\n",
      "Epoch 2/100\n",
      "250/250 [==============================] - 0s 534us/step - loss: 0.4940 - accuracy: 0.7960\n",
      "Epoch 3/100\n",
      "250/250 [==============================] - 0s 509us/step - loss: 0.4730 - accuracy: 0.7962\n",
      "Epoch 4/100\n",
      "250/250 [==============================] - 0s 512us/step - loss: 0.4598 - accuracy: 0.8019\n",
      "Epoch 5/100\n",
      "250/250 [==============================] - 0s 500us/step - loss: 0.4527 - accuracy: 0.8058\n",
      "Epoch 6/100\n",
      "250/250 [==============================] - 0s 510us/step - loss: 0.4472 - accuracy: 0.8071\n",
      "Epoch 7/100\n",
      "250/250 [==============================] - 0s 510us/step - loss: 0.4444 - accuracy: 0.8084\n",
      "Epoch 8/100\n",
      "250/250 [==============================] - 0s 500us/step - loss: 0.4422 - accuracy: 0.8081\n",
      "Epoch 9/100\n",
      "250/250 [==============================] - 0s 507us/step - loss: 0.4423 - accuracy: 0.8066\n",
      "Epoch 10/100\n",
      "250/250 [==============================] - 0s 499us/step - loss: 0.4392 - accuracy: 0.8071\n",
      "Epoch 11/100\n",
      "250/250 [==============================] - 0s 514us/step - loss: 0.4385 - accuracy: 0.8079\n",
      "Epoch 12/100\n",
      "250/250 [==============================] - 0s 512us/step - loss: 0.4376 - accuracy: 0.8059\n",
      "Epoch 13/100\n",
      "250/250 [==============================] - 0s 503us/step - loss: 0.4361 - accuracy: 0.8094\n",
      "Epoch 14/100\n",
      "250/250 [==============================] - 0s 519us/step - loss: 0.4338 - accuracy: 0.8102\n",
      "Epoch 15/100\n",
      "250/250 [==============================] - 0s 512us/step - loss: 0.4326 - accuracy: 0.8106\n",
      "Epoch 16/100\n",
      "250/250 [==============================] - 0s 503us/step - loss: 0.4329 - accuracy: 0.8125\n",
      "Epoch 17/100\n",
      "250/250 [==============================] - 0s 508us/step - loss: 0.4305 - accuracy: 0.8121\n",
      "Epoch 18/100\n",
      "250/250 [==============================] - 0s 535us/step - loss: 0.4298 - accuracy: 0.8177\n",
      "Epoch 19/100\n",
      "250/250 [==============================] - 0s 524us/step - loss: 0.4280 - accuracy: 0.8198\n",
      "Epoch 20/100\n",
      "250/250 [==============================] - 0s 512us/step - loss: 0.4276 - accuracy: 0.8192\n",
      "Epoch 21/100\n",
      "250/250 [==============================] - 0s 508us/step - loss: 0.4278 - accuracy: 0.8211\n",
      "Epoch 22/100\n",
      "250/250 [==============================] - 0s 508us/step - loss: 0.4256 - accuracy: 0.8232\n",
      "Epoch 23/100\n",
      "250/250 [==============================] - 0s 532us/step - loss: 0.4266 - accuracy: 0.8267\n",
      "Epoch 24/100\n",
      "250/250 [==============================] - 0s 526us/step - loss: 0.4247 - accuracy: 0.8254\n",
      "Epoch 25/100\n",
      "250/250 [==============================] - 0s 520us/step - loss: 0.4244 - accuracy: 0.8261\n",
      "Epoch 26/100\n",
      "250/250 [==============================] - 0s 507us/step - loss: 0.4241 - accuracy: 0.8255\n",
      "Epoch 27/100\n",
      "250/250 [==============================] - 0s 508us/step - loss: 0.4237 - accuracy: 0.8280\n",
      "Epoch 28/100\n",
      "250/250 [==============================] - 0s 520us/step - loss: 0.4221 - accuracy: 0.8296\n",
      "Epoch 29/100\n",
      "250/250 [==============================] - 0s 496us/step - loss: 0.4214 - accuracy: 0.8290\n",
      "Epoch 30/100\n",
      "250/250 [==============================] - 0s 515us/step - loss: 0.4214 - accuracy: 0.8298\n",
      "Epoch 31/100\n",
      "250/250 [==============================] - 0s 510us/step - loss: 0.4201 - accuracy: 0.8290\n",
      "Epoch 32/100\n",
      "250/250 [==============================] - 0s 513us/step - loss: 0.4202 - accuracy: 0.8298\n",
      "Epoch 33/100\n",
      "250/250 [==============================] - 0s 508us/step - loss: 0.4202 - accuracy: 0.8307\n",
      "Epoch 34/100\n",
      "250/250 [==============================] - 0s 521us/step - loss: 0.4209 - accuracy: 0.8289\n",
      "Epoch 35/100\n",
      "250/250 [==============================] - 0s 492us/step - loss: 0.4194 - accuracy: 0.8301\n",
      "Epoch 36/100\n",
      "250/250 [==============================] - 0s 508us/step - loss: 0.4179 - accuracy: 0.8316\n",
      "Epoch 37/100\n",
      "250/250 [==============================] - 0s 513us/step - loss: 0.4190 - accuracy: 0.8300\n",
      "Epoch 38/100\n",
      "250/250 [==============================] - 0s 494us/step - loss: 0.4177 - accuracy: 0.8315\n",
      "Epoch 39/100\n",
      "250/250 [==============================] - 0s 500us/step - loss: 0.4188 - accuracy: 0.8292\n",
      "Epoch 40/100\n",
      "250/250 [==============================] - 0s 507us/step - loss: 0.4177 - accuracy: 0.8306\n",
      "Epoch 41/100\n",
      "250/250 [==============================] - 0s 514us/step - loss: 0.4179 - accuracy: 0.8295\n",
      "Epoch 42/100\n",
      "250/250 [==============================] - 0s 523us/step - loss: 0.4170 - accuracy: 0.8324\n",
      "Epoch 43/100\n",
      "250/250 [==============================] - 0s 496us/step - loss: 0.4185 - accuracy: 0.8315\n",
      "Epoch 44/100\n",
      "250/250 [==============================] - 0s 512us/step - loss: 0.4173 - accuracy: 0.8324\n",
      "Epoch 45/100\n",
      "250/250 [==============================] - 0s 504us/step - loss: 0.4165 - accuracy: 0.8310\n",
      "Epoch 46/100\n",
      "250/250 [==============================] - 0s 508us/step - loss: 0.4167 - accuracy: 0.8324\n",
      "Epoch 47/100\n",
      "250/250 [==============================] - 0s 517us/step - loss: 0.4170 - accuracy: 0.8306\n",
      "Epoch 48/100\n",
      "250/250 [==============================] - 0s 517us/step - loss: 0.4167 - accuracy: 0.8321\n",
      "Epoch 49/100\n",
      "250/250 [==============================] - 0s 498us/step - loss: 0.4170 - accuracy: 0.8306\n",
      "Epoch 50/100\n",
      "250/250 [==============================] - 0s 516us/step - loss: 0.4161 - accuracy: 0.8315\n",
      "Epoch 51/100\n",
      "250/250 [==============================] - 0s 516us/step - loss: 0.4159 - accuracy: 0.8310\n",
      "Epoch 52/100\n",
      "250/250 [==============================] - 0s 504us/step - loss: 0.4157 - accuracy: 0.8340\n",
      "Epoch 53/100\n",
      "250/250 [==============================] - 0s 502us/step - loss: 0.4158 - accuracy: 0.8307\n",
      "Epoch 54/100\n",
      "250/250 [==============================] - 0s 512us/step - loss: 0.4153 - accuracy: 0.8329\n",
      "Epoch 55/100\n",
      "250/250 [==============================] - 0s 513us/step - loss: 0.4161 - accuracy: 0.8317\n",
      "Epoch 56/100\n",
      "250/250 [==============================] - 0s 500us/step - loss: 0.4154 - accuracy: 0.8341\n",
      "Epoch 57/100\n",
      "250/250 [==============================] - 0s 500us/step - loss: 0.4155 - accuracy: 0.8310\n",
      "Epoch 58/100\n",
      "250/250 [==============================] - 0s 508us/step - loss: 0.4146 - accuracy: 0.8332\n",
      "Epoch 59/100\n",
      "250/250 [==============================] - 0s 511us/step - loss: 0.4147 - accuracy: 0.8319\n",
      "Epoch 60/100\n",
      "250/250 [==============================] - 0s 508us/step - loss: 0.4144 - accuracy: 0.8336\n",
      "Epoch 61/100\n",
      "250/250 [==============================] - 0s 544us/step - loss: 0.4144 - accuracy: 0.8317\n",
      "Epoch 62/100\n",
      "250/250 [==============================] - 0s 516us/step - loss: 0.4148 - accuracy: 0.8310\n",
      "Epoch 63/100\n",
      "250/250 [==============================] - 0s 528us/step - loss: 0.4147 - accuracy: 0.8329\n",
      "Epoch 64/100\n",
      "250/250 [==============================] - 0s 507us/step - loss: 0.4146 - accuracy: 0.8315\n",
      "Epoch 65/100\n",
      "250/250 [==============================] - 0s 491us/step - loss: 0.4142 - accuracy: 0.8322\n",
      "Epoch 66/100\n",
      "250/250 [==============================] - 0s 504us/step - loss: 0.4161 - accuracy: 0.8309\n",
      "Epoch 67/100\n",
      "250/250 [==============================] - 0s 527us/step - loss: 0.4140 - accuracy: 0.8329\n",
      "Epoch 68/100\n",
      "250/250 [==============================] - 0s 568us/step - loss: 0.4143 - accuracy: 0.8328\n",
      "Epoch 69/100\n",
      "250/250 [==============================] - 0s 532us/step - loss: 0.4136 - accuracy: 0.8334\n",
      "Epoch 70/100\n",
      "250/250 [==============================] - 0s 538us/step - loss: 0.4136 - accuracy: 0.8338\n",
      "Epoch 71/100\n",
      "250/250 [==============================] - 0s 506us/step - loss: 0.4140 - accuracy: 0.8331\n",
      "Epoch 72/100\n",
      "250/250 [==============================] - 0s 539us/step - loss: 0.4149 - accuracy: 0.8314\n",
      "Epoch 73/100\n",
      "250/250 [==============================] - 0s 520us/step - loss: 0.4133 - accuracy: 0.8331\n",
      "Epoch 74/100\n",
      "250/250 [==============================] - 0s 520us/step - loss: 0.4127 - accuracy: 0.8317\n",
      "Epoch 75/100\n",
      "250/250 [==============================] - 0s 532us/step - loss: 0.4126 - accuracy: 0.8314\n",
      "Epoch 76/100\n",
      "250/250 [==============================] - 0s 528us/step - loss: 0.4125 - accuracy: 0.8324\n",
      "Epoch 77/100\n",
      "250/250 [==============================] - 0s 509us/step - loss: 0.4128 - accuracy: 0.8321\n",
      "Epoch 78/100\n",
      "250/250 [==============================] - 0s 514us/step - loss: 0.4124 - accuracy: 0.8336\n",
      "Epoch 79/100\n"
     ]
    },
    {
     "name": "stdout",
     "output_type": "stream",
     "text": [
      "250/250 [==============================] - 0s 521us/step - loss: 0.4126 - accuracy: 0.8329\n",
      "Epoch 80/100\n",
      "250/250 [==============================] - 0s 544us/step - loss: 0.4135 - accuracy: 0.8339\n",
      "Epoch 81/100\n",
      "250/250 [==============================] - 0s 548us/step - loss: 0.4137 - accuracy: 0.8324\n",
      "Epoch 82/100\n",
      "250/250 [==============================] - 0s 540us/step - loss: 0.4120 - accuracy: 0.8331\n",
      "Epoch 83/100\n",
      "250/250 [==============================] - 0s 512us/step - loss: 0.4120 - accuracy: 0.8328\n",
      "Epoch 84/100\n",
      "250/250 [==============================] - 0s 516us/step - loss: 0.4133 - accuracy: 0.8320\n",
      "Epoch 85/100\n",
      "250/250 [==============================] - 0s 544us/step - loss: 0.4122 - accuracy: 0.8329\n",
      "Epoch 86/100\n",
      "250/250 [==============================] - 0s 548us/step - loss: 0.4129 - accuracy: 0.8336\n",
      "Epoch 87/100\n",
      "250/250 [==============================] - 0s 539us/step - loss: 0.4123 - accuracy: 0.8324\n",
      "Epoch 88/100\n",
      "250/250 [==============================] - 0s 572us/step - loss: 0.4140 - accuracy: 0.8334\n",
      "Epoch 89/100\n",
      "250/250 [==============================] - 0s 552us/step - loss: 0.4131 - accuracy: 0.8326\n",
      "Epoch 90/100\n",
      "250/250 [==============================] - 0s 556us/step - loss: 0.4118 - accuracy: 0.8321\n",
      "Epoch 91/100\n",
      "250/250 [==============================] - 0s 547us/step - loss: 0.4133 - accuracy: 0.8326\n",
      "Epoch 92/100\n",
      "250/250 [==============================] - 0s 532us/step - loss: 0.4137 - accuracy: 0.8329\n",
      "Epoch 93/100\n",
      "250/250 [==============================] - 0s 520us/step - loss: 0.4129 - accuracy: 0.8334\n",
      "Epoch 94/100\n",
      "250/250 [==============================] - 0s 520us/step - loss: 0.4116 - accuracy: 0.8338\n",
      "Epoch 95/100\n",
      "250/250 [==============================] - 0s 536us/step - loss: 0.4119 - accuracy: 0.8336\n",
      "Epoch 96/100\n",
      "250/250 [==============================] - 0s 528us/step - loss: 0.4117 - accuracy: 0.8345\n",
      "Epoch 97/100\n",
      "250/250 [==============================] - 0s 524us/step - loss: 0.4141 - accuracy: 0.8321\n",
      "Epoch 98/100\n",
      "250/250 [==============================] - 0s 532us/step - loss: 0.4128 - accuracy: 0.8338\n",
      "Epoch 99/100\n",
      "250/250 [==============================] - 0s 518us/step - loss: 0.4116 - accuracy: 0.8325\n",
      "Epoch 100/100\n",
      "250/250 [==============================] - 0s 516us/step - loss: 0.4125 - accuracy: 0.8325\n"
     ]
    },
    {
     "data": {
      "text/plain": [
       "<tensorflow.python.keras.callbacks.History at 0x1bcb05fc430>"
      ]
     },
     "execution_count": 23,
     "metadata": {},
     "output_type": "execute_result"
    }
   ],
   "source": [
    "import tensorflow as tf\n",
    "from tensorflow import keras\n",
    "\n",
    "model = keras.Sequential([\n",
    "    keras.layers.Dense(9, input_shape = (9,), activation = 'relu', kernel_initializer = 'ones', bias_initializer = 'zeros'), \n",
    "    keras.layers.Dense(6, activation = 'relu'),\n",
    "    keras.layers.Dense(1, activation = 'sigmoid')\n",
    "])\n",
    "\n",
    "# keras optimizer - adam and learing rate = 0.01\n",
    "\n",
    "model.compile(optimizer = 'adam', \n",
    "             loss = 'binary_crossentropy', \n",
    "             metrics= ['accuracy'])\n",
    "\n",
    "model.fit(X_train, y_train, epochs = 100)"
   ]
  },
  {
   "cell_type": "code",
   "execution_count": 24,
   "metadata": {},
   "outputs": [
    {
     "name": "stdout",
     "output_type": "stream",
     "text": [
      "63/63 [==============================] - 0s 418us/step - loss: 0.4097 - accuracy: 0.8280\n"
     ]
    },
    {
     "data": {
      "text/plain": [
       "[0.4096708595752716, 0.828000009059906]"
      ]
     },
     "execution_count": 24,
     "metadata": {},
     "output_type": "execute_result"
    }
   ],
   "source": [
    "model.evaluate(X_test, y_test)"
   ]
  },
  {
   "cell_type": "code",
   "execution_count": 25,
   "metadata": {},
   "outputs": [],
   "source": [
    "y_predicted = model.predict(X_test)"
   ]
  },
  {
   "cell_type": "code",
   "execution_count": 26,
   "metadata": {},
   "outputs": [
    {
     "data": {
      "text/plain": [
       "array([[0.10918662],\n",
       "       [0.10105738],\n",
       "       [0.10171372],\n",
       "       [0.05479279],\n",
       "       [0.16917932],\n",
       "       [0.29355127],\n",
       "       [0.0364821 ],\n",
       "       [0.16165876],\n",
       "       [0.06465596],\n",
       "       [0.22631893]], dtype=float32)"
      ]
     },
     "execution_count": 26,
     "metadata": {},
     "output_type": "execute_result"
    }
   ],
   "source": [
    "y_predicted[:10]"
   ]
  },
  {
   "cell_type": "code",
   "execution_count": 27,
   "metadata": {},
   "outputs": [
    {
     "data": {
      "text/plain": [
       "[0, 0, 0, 0, 0, 0, 0, 0, 0, 0]"
      ]
     },
     "execution_count": 27,
     "metadata": {},
     "output_type": "execute_result"
    }
   ],
   "source": [
    "# convert predicted values to 0 and 1 based on y_predicted value less than 0.5 and more than 0.5 respectively\n",
    "y_p = []\n",
    "\n",
    "for element in y_predicted:\n",
    "    if element < 0.5:\n",
    "        y_p.append(0)\n",
    "    else: \n",
    "        y_p.append(1)\n",
    "        \n",
    "y_p[:10]"
   ]
  },
  {
   "cell_type": "code",
   "execution_count": 28,
   "metadata": {},
   "outputs": [
    {
     "data": {
      "text/plain": [
       "7054    0\n",
       "442     0\n",
       "3954    0\n",
       "2288    0\n",
       "3196    0\n",
       "6178    0\n",
       "8351    0\n",
       "5658    1\n",
       "2065    0\n",
       "413     1\n",
       "Name: Exited, dtype: int64"
      ]
     },
     "execution_count": 28,
     "metadata": {},
     "output_type": "execute_result"
    }
   ],
   "source": [
    "y_test[:10]"
   ]
  },
  {
   "cell_type": "code",
   "execution_count": 29,
   "metadata": {},
   "outputs": [
    {
     "name": "stdout",
     "output_type": "stream",
     "text": [
      "              precision    recall  f1-score   support\n",
      "\n",
      "           0       0.84      0.97      0.90      1595\n",
      "           1       0.70      0.26      0.38       405\n",
      "\n",
      "    accuracy                           0.83      2000\n",
      "   macro avg       0.77      0.62      0.64      2000\n",
      "weighted avg       0.81      0.83      0.79      2000\n",
      "\n"
     ]
    }
   ],
   "source": [
    "# define confusion matrix and classfication report\n",
    "from sklearn.metrics import confusion_matrix, classification_report\n",
    "\n",
    "print(classification_report(y_test, y_p))"
   ]
  },
  {
   "cell_type": "code",
   "execution_count": 30,
   "metadata": {},
   "outputs": [
    {
     "data": {
      "text/plain": [
       "Text(69.0, 0.5, 'Truth')"
      ]
     },
     "execution_count": 30,
     "metadata": {},
     "output_type": "execute_result"
    },
    {
     "data": {
      "image/png": "[encoded data removed]",
      "text/plain": [
       "<Figure size 720x504 with 2 Axes>"
      ]
     },
     "metadata": {
      "needs_background": "light"
     },
     "output_type": "display_data"
    }
   ],
   "source": [
    "# plot confusion matrix\n",
    "\n",
    "import seaborn as sns\n",
    "\n",
    "cm = tf.math.confusion_matrix(labels = y_test, predictions = y_p)\n",
    "\n",
    "plt.figure(figsize = (10,7))\n",
    "sns.heatmap(cm, annot= True, fmt = 'd')\n",
    "plt.xlabel('Predicted')\n",
    "plt.ylabel('Truth')"
   ]
  },
  {
   "cell_type": "code",
   "execution_count": 31,
   "metadata": {},
   "outputs": [
    {
     "data": {
      "text/plain": [
       "0.83"
      ]
     },
     "execution_count": 31,
     "metadata": {},
     "output_type": "execute_result"
    }
   ],
   "source": [
    "# Accuracy of confusion matrix comparison\n",
    "round((1551+105)/(1551+44+300+105), 2)"
   ]
  },
  {
   "cell_type": "code",
   "execution_count": 32,
   "metadata": {},
   "outputs": [],
   "source": [
    "# Matches with model prediction "
   ]
  },
  {
   "cell_type": "code",
   "execution_count": 46,
   "metadata": {},
   "outputs": [],
   "source": [
    "# Precision with zero exit\n",
    "# round(1551/(1551+300), 2)\n",
    "\n",
    "p0 = 1551/(1551+300)"
   ]
  },
  {
   "cell_type": "code",
   "execution_count": 47,
   "metadata": {},
   "outputs": [],
   "source": [
    "# Precision with 1 exit\n",
    "p1 = 105/(105+44)"
   ]
  },
  {
   "cell_type": "code",
   "execution_count": 48,
   "metadata": {},
   "outputs": [],
   "source": [
    "# Recall for zero class \n",
    "r0 = 1551/(1551+44)"
   ]
  },
  {
   "cell_type": "code",
   "execution_count": 49,
   "metadata": {},
   "outputs": [],
   "source": [
    "# Recall for 1 class \n",
    "r1 = 300/(300+105)"
   ]
  },
  {
   "cell_type": "code",
   "execution_count": 50,
   "metadata": {},
   "outputs": [],
   "source": [
    "p = (p1+p0)/2\n",
    "r = (r1+r0)/2"
   ]
  },
  {
   "cell_type": "code",
   "execution_count": 51,
   "metadata": {},
   "outputs": [
    {
     "data": {
      "text/plain": [
       "0.811711472503389"
      ]
     },
     "execution_count": 51,
     "metadata": {},
     "output_type": "execute_result"
    }
   ],
   "source": [
    "# f1 score = 2*((precision * recall)/(precision+recall))\n",
    "f1 = 2*(p*r)/(p+r)\n",
    "f1"
   ]
  },
  {
   "cell_type": "code",
   "execution_count": null,
   "metadata": {},
   "outputs": [],
   "source": []
  }
 ],
 "metadata": {
  "kernelspec": {
   "display_name": "Python 3",
   "language": "python",
   "name": "python3"
  },
  "language_info": {
   "codemirror_mode": {
    "name": "ipython",
    "version": 3
   },
   "file_extension": ".py",
   "mimetype": "text/x-python",
   "name": "python",
   "nbconvert_exporter": "python",
   "pygments_lexer": "ipython3",
   "version": "3.8.3"
  }
 },
 "nbformat": 4,
 "nbformat_minor": 4
}
